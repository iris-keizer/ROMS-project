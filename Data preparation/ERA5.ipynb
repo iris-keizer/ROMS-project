{
 "cells": [
  {
   "cell_type": "markdown",
   "id": "931deb85-6469-482d-9a61-8f05e902b995",
   "metadata": {},
   "source": [
    "## Notebook to prepare the ERA5 data to be able to save the datasets locally\n",
    "\n",
    "The next step would be to create the datasets for lateral forcing.\n",
    "\n",
    "In this notebook:\n",
    "- \n",
    "\n",
    "The ERA5 data is:\n",
    "- \n",
    "\n",
    "The data is downloaded from: https://cds.climate.copernicus.eu/cdsapp#!/dataset/reanalysis-era5-single-levels\n",
    "and from: https://cds.climate.copernicus.eu/cdsapp#!/dataset/reanalysis-era5-single-levels-preliminary-back-extension\n",
    "\n",
    "\n",
    " "
   ]
  },
  {
   "cell_type": "code",
   "execution_count": 1,
   "id": "71674cad-2687-4b3d-9555-5f0a409e7bde",
   "metadata": {},
   "outputs": [],
   "source": [
    "# Import necessary packages\n",
    "\n",
    "\n",
    "import xarray as xr\n",
    "\n",
    "from tqdm import tqdm"
   ]
  },
  {
   "cell_type": "code",
   "execution_count": 5,
   "id": "4261985b-6017-41d4-acd9-654751576022",
   "metadata": {},
   "outputs": [],
   "source": [
    "era5_tcc = xr.open_dataset('/Users/iriskeizer/Documents/ROMS/data/ERA5/adaptor.mars.internal-1647012993.0965502-1134-3-cd42d79a-87d7-4aef-b4e0-224ad09834bd.nc')\n",
    "era5_tp = xr.open_dataset('/Users/iriskeizer/Documents/ROMS/data/ERA5/adaptor.mars.internal-1647261242.602572-4864-1-9b78dccb-91f2-4236-a230-a5288e8bc81e.nc')\n",
    "era5_ssr = xr.open_dataset('/Users/iriskeizer/Documents/ROMS/data/ERA5/adaptor.mars.internal-1647264566.739954-26087-6-d0b7aa0b-96b4-43f3-bcf6-75c81adadbe5.nc')\n",
    "era5_d2m = xr.open_dataset('/Users/iriskeizer/Documents/ROMS/data/ERA5/adaptor.mars.internal-1647264663.7759883-24432-1-69c04b46-f146-4fe7-b4cc-a8f08a1c5fb8.nc')\n",
    "era5_t2m = xr.open_dataset('/Users/iriskeizer/Documents/ROMS/data/ERA5/adaptor.mars.internal-1647264663.9352438-26072-1-bc36add4-4f6a-40a8-b041-ef92faed0448.nc')\n",
    "era5_v10 = xr.open_dataset('/Users/iriskeizer/Documents/ROMS/data/ERA5/adaptor.mars.internal-1647265352.913547-27637-5-b5bbb6ee-e04c-4543-9b2f-d2e0592207c9.nc')\n",
    "era5_msl = xr.open_dataset('/Users/iriskeizer/Documents/ROMS/data/ERA5/adaptor.mars.internal-1647266764.363987-27044-1-51afea69-393e-41ac-b22b-f9e75710681d.nc')"
   ]
  },
  {
   "cell_type": "code",
   "execution_count": 18,
   "id": "25b1cb5e-d32d-4024-bbef-97fbc1dced72",
   "metadata": {},
   "outputs": [],
   "source": []
  },
  {
   "cell_type": "code",
   "execution_count": null,
   "id": "3e72389b-d0dc-42f5-8f84-54753a41b6c4",
   "metadata": {},
   "outputs": [],
   "source": []
  }
 ],
 "metadata": {
  "kernelspec": {
   "display_name": "Python 3 (ipykernel)",
   "language": "python",
   "name": "python3"
  },
  "language_info": {
   "codemirror_mode": {
    "name": "ipython",
    "version": 3
   },
   "file_extension": ".py",
   "mimetype": "text/x-python",
   "name": "python",
   "nbconvert_exporter": "python",
   "pygments_lexer": "ipython3",
   "version": "3.9.7"
  }
 },
 "nbformat": 4,
 "nbformat_minor": 5
}
