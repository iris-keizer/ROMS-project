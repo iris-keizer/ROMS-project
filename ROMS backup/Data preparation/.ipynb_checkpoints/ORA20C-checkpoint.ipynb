{
 "cells": [
  {
   "cell_type": "markdown",
   "id": "af067030-0318-4a4a-9568-1dd0582df75c",
   "metadata": {},
   "source": [
    "## Notebook to prepare the ORA-20C data to be able to save the datasets locally\n",
    "\n",
    "The next step would be to create the datasets for lateral forcing.\n",
    "\n",
    "In this notebook:\n",
    "- The seperate files for each year per variable are combined into 1 file\n",
    "- The region is shrinked to 32°N to 66°N and -24°W to 14°E\n",
    "- The longitudes are changed from 0 to 360 to -180 to 180\n",
    "\n",
    "\n",
    "\n",
    "The ORA-20C data is:\n",
    "- 1900 - 2010\n",
    "- monthly\n",
    "- 1.0° x 1.0°\n",
    "\n",
    "The ORA-20C data is downloaded from server ftp://ftp-icdc.cen.uni-hamburg.de path: /ora20c/ between 15 and 21 March\n",
    "\n",
    "\n",
    " \n"
   ]
  },
  {
   "cell_type": "markdown",
   "id": "e19fd9ac-7471-426e-a938-d52792ed083f",
   "metadata": {},
   "source": [
    "### All preparation steps executed separately for opa0"
   ]
  },
  {
   "cell_type": "code",
   "execution_count": 1,
   "id": "bcf789d2-5914-4d67-a55d-5395c9d0a3d4",
   "metadata": {},
   "outputs": [],
   "source": [
    "# Import necessary packages\n",
    "\n",
    "import numpy as np\n",
    "import xarray as xr"
   ]
  },
  {
   "cell_type": "code",
   "execution_count": 2,
   "id": "f081d59f-dbf1-484c-b368-fcd19e2ebe2c",
   "metadata": {},
   "outputs": [],
   "source": [
    "def import_ORA_20C(ensemble_member, var_name):\n",
    "    '''\n",
    "    Function to import the individual variables of ORA_20C \n",
    "    '''\n",
    "    folder = f'/Volumes/Iris 300 GB/{ensemble_member}/{var_name}_ora20c_1m_*_grid_1x1.nc'\n",
    "    \n",
    "    data = xr.open_mfdataset(folder, parallel = True, )\n",
    "    \n",
    "    return data"
   ]
  },
  {
   "cell_type": "code",
   "execution_count": 3,
   "id": "4503cc89-1c04-44f3-b7a2-fec60a53bde3",
   "metadata": {},
   "outputs": [],
   "source": [
    "# Import ORA-20C files \n",
    "so_opa0 = import_ORA_20C('opa0', 'so')\n",
    "thetao_opa0 = import_ORA_20C('opa0', 'thetao')\n",
    "uo_opa0 = import_ORA_20C('opa0', 'uo')\n",
    "vo_opa0 = import_ORA_20C('opa0', 'vo')\n",
    "zos_opa0 = import_ORA_20C('opa0', 'zos')"
   ]
  },
  {
   "cell_type": "code",
   "execution_count": 4,
   "id": "fb27f5ee-85bb-4cd0-8be3-015832fa9500",
   "metadata": {},
   "outputs": [],
   "source": [
    "def change_longitude_values(data):\n",
    "    '''\n",
    "    Function to change the longitude values from 0 to 360 into -180 to 180\n",
    "    '''\n",
    "    \n",
    "    longitudes = np.concatenate([np.arange(0.5, 180), np.arange(-179.5, 0)]) # Define array containing the correct longitude values\n",
    "    \n",
    "    data_changed = data.assign_coords(lon = longitudes) # Assign the values to the coordinate\n",
    "    \n",
    "    #data_changed = data_changed.sortby('lon') # Sort longitudes increasing\n",
    "    \n",
    "    \n",
    "    return data_changed"
   ]
  },
  {
   "cell_type": "code",
   "execution_count": 5,
   "id": "51550070-c6fa-4398-9641-8bef69876c48",
   "metadata": {},
   "outputs": [],
   "source": [
    "# Change longitude from 0 to 360 to -180 to 180\n",
    "so_opa0 = change_longitude_values(so_opa0)\n",
    "thetao_opa0 = change_longitude_values(thetao_opa0)\n",
    "uo_opa0 = change_longitude_values(uo_opa0)\n",
    "vo_opa0 = change_longitude_values(vo_opa0)\n",
    "zos_opa0 = change_longitude_values(zos_opa0)\n"
   ]
  },
  {
   "cell_type": "code",
   "execution_count": 6,
   "id": "2663ea5c-3bb6-4303-91be-d5b597683f16",
   "metadata": {},
   "outputs": [],
   "source": [
    "def shrink_region(data):\n",
    "    '''\n",
    "    Function to shrink the spatial region of the data from global to the ROMS region (32°N to 66°N and -24°W to 14°E)\n",
    "    \n",
    "    '''\n",
    "    \n",
    "    data_shr = data.where((data.lat > 32) & (data.lat < 66) & (data.lon > -24 ) & (data.lon < 14) , drop = True) # Select region\n",
    "    \n",
    "\n",
    "    \n",
    "    return data_shr"
   ]
  },
  {
   "cell_type": "code",
   "execution_count": 7,
   "id": "eb365013-0ea8-41f1-9895-539713e011d2",
   "metadata": {},
   "outputs": [
    {
     "name": "stderr",
     "output_type": "stream",
     "text": [
      "/Users/iriskeizer/opt/anaconda3/lib/python3.9/site-packages/xarray/core/indexing.py:1233: PerformanceWarning: Slicing is producing a large chunk. To accept the large\n",
      "chunk and silence this warning, set the option\n",
      "    >>> with dask.config.set(**{'array.slicing.split_large_chunks': False}):\n",
      "    ...     array[indexer]\n",
      "\n",
      "To avoid creating the large chunks, set the option\n",
      "    >>> with dask.config.set(**{'array.slicing.split_large_chunks': True}):\n",
      "    ...     array[indexer]\n",
      "  value = value[(slice(None),) * axis + (subkey,)]\n",
      "/Users/iriskeizer/opt/anaconda3/lib/python3.9/site-packages/xarray/core/indexing.py:1233: PerformanceWarning: Slicing is producing a large chunk. To accept the large\n",
      "chunk and silence this warning, set the option\n",
      "    >>> with dask.config.set(**{'array.slicing.split_large_chunks': False}):\n",
      "    ...     array[indexer]\n",
      "\n",
      "To avoid creating the large chunks, set the option\n",
      "    >>> with dask.config.set(**{'array.slicing.split_large_chunks': True}):\n",
      "    ...     array[indexer]\n",
      "  value = value[(slice(None),) * axis + (subkey,)]\n",
      "/Users/iriskeizer/opt/anaconda3/lib/python3.9/site-packages/xarray/core/indexing.py:1233: PerformanceWarning: Slicing is producing a large chunk. To accept the large\n",
      "chunk and silence this warning, set the option\n",
      "    >>> with dask.config.set(**{'array.slicing.split_large_chunks': False}):\n",
      "    ...     array[indexer]\n",
      "\n",
      "To avoid creating the large chunks, set the option\n",
      "    >>> with dask.config.set(**{'array.slicing.split_large_chunks': True}):\n",
      "    ...     array[indexer]\n",
      "  value = value[(slice(None),) * axis + (subkey,)]\n",
      "/Users/iriskeizer/opt/anaconda3/lib/python3.9/site-packages/xarray/core/indexing.py:1233: PerformanceWarning: Slicing is producing a large chunk. To accept the large\n",
      "chunk and silence this warning, set the option\n",
      "    >>> with dask.config.set(**{'array.slicing.split_large_chunks': False}):\n",
      "    ...     array[indexer]\n",
      "\n",
      "To avoid creating the large chunks, set the option\n",
      "    >>> with dask.config.set(**{'array.slicing.split_large_chunks': True}):\n",
      "    ...     array[indexer]\n",
      "  value = value[(slice(None),) * axis + (subkey,)]\n"
     ]
    }
   ],
   "source": [
    "# Shrink the regional extent of the data from global to the ROMS region\n",
    "so_opa0 = shrink_region(so_opa0)\n",
    "thetao_opa0 = shrink_region(thetao_opa0)\n",
    "uo_opa0 = shrink_region(uo_opa0)\n",
    "vo_opa0 = shrink_region(vo_opa0)\n",
    "zos_opa0 = shrink_region(zos_opa0)"
   ]
  },
  {
   "cell_type": "code",
   "execution_count": 25,
   "id": "4c575ef0-25c6-43ba-8522-fe97b290b236",
   "metadata": {},
   "outputs": [],
   "source": [
    "def combine_variables(variables):\n",
    "    '''\n",
    "    Function that combines all variables into one xarray.dataset\n",
    "    '''\n",
    "    \n",
    "    return xr.merge(variables)"
   ]
  },
  {
   "cell_type": "code",
   "execution_count": 30,
   "id": "cb2b1c62-965c-49ce-bb04-1cc78e857e8c",
   "metadata": {},
   "outputs": [],
   "source": [
    "opa0 = combine_variables([so_opa0.so, thetao_opa0.thetao, uo_opa0.uo, vo_opa0.vo, zos_opa0.zos])"
   ]
  },
  {
   "cell_type": "code",
   "execution_count": 31,
   "id": "04642496-42f0-4b26-be8f-9370b36a7759",
   "metadata": {},
   "outputs": [],
   "source": [
    "def save_data(data, name):\n",
    "    '''\n",
    "    Function that saves the resulting xarray.dataset in a local folder\n",
    "    '''\n",
    "    \n",
    "    data.to_netcdf(f'/Users/iriskeizer/Documents/ROMS/data/ORA20C/{name}.nc')"
   ]
  },
  {
   "cell_type": "code",
   "execution_count": 32,
   "id": "7adca129-e711-42df-8ebc-e953eeda3b66",
   "metadata": {},
   "outputs": [],
   "source": [
    "# Save the opa0 dataset in a local folder\n",
    "save_data(opa0, 'opa0_prepared')"
   ]
  },
  {
   "cell_type": "markdown",
   "id": "52bfda98-a604-442a-9d50-38a8056a4eef",
   "metadata": {},
   "source": [
    "### All preparation steps executed using one function for the other ensemble members"
   ]
  },
  {
   "cell_type": "code",
   "execution_count": null,
   "id": "228c8bbd-d315-4892-bd23-e006bfe735e7",
   "metadata": {},
   "outputs": [],
   "source": [
    "def prepare_ensemble_member(ensemble member):\n",
    "    '''\n",
    "    Function that prepares an emsemble member for further analysis by:\n",
    "    - importing all variables\n",
    "    - changing the longitude values\n",
    "    - shrink the domain\n",
    "    '''\n",
    "    \n",
    "    variables = ['so', 'thetao', 'uo', 'vo', 'zos']\n",
    "    \n",
    "    for var in variables:\n",
    "        import_ORA_20C('opa0', 'so')"
   ]
  }
 ],
 "metadata": {
  "kernelspec": {
   "display_name": "Python 3 (ipykernel)",
   "language": "python",
   "name": "python3"
  },
  "language_info": {
   "codemirror_mode": {
    "name": "ipython",
    "version": 3
   },
   "file_extension": ".py",
   "mimetype": "text/x-python",
   "name": "python",
   "nbconvert_exporter": "python",
   "pygments_lexer": "ipython3",
   "version": "3.9.7"
  }
 },
 "nbformat": 4,
 "nbformat_minor": 5
}
