{
 "cells": [
  {
   "cell_type": "markdown",
   "id": "931deb85-6469-482d-9a61-8f05e902b995",
   "metadata": {},
   "source": [
    "## Notebook to prepare the ERA5 data to be able to save the datasets locally\n",
    "\n",
    "The next step would be to create the datasets for lateral forcing.\n",
    "\n",
    "In this notebook:\n",
    "- \n",
    "\n",
    "The ERA5 data is:\n",
    "- \n",
    "\n",
    "The data is downloaded from: https://cds.climate.copernicus.eu/cdsapp#!/dataset/reanalysis-era5-single-levels\n",
    "and from: https://cds.climate.copernicus.eu/cdsapp#!/dataset/reanalysis-era5-single-levels-preliminary-back-extension\n",
    "\n",
    "\n",
    " "
   ]
  },
  {
   "cell_type": "code",
   "execution_count": 1,
   "id": "71674cad-2687-4b3d-9555-5f0a409e7bde",
   "metadata": {},
   "outputs": [
    {
     "data": {
      "text/plain": [
       "<dask.config.set at 0x7fa110370370>"
      ]
     },
     "execution_count": 1,
     "metadata": {},
     "output_type": "execute_result"
    }
   ],
   "source": [
    "# Import necessary packages\n",
    "\n",
    "import dask\n",
    "import xarray as xr\n",
    "\n",
    "from tqdm import tqdm\n",
    "\n",
    "dask.config.set({\"array.slicing.split_large_chunks\": False})"
   ]
  },
  {
   "cell_type": "code",
   "execution_count": 12,
   "id": "3e72389b-d0dc-42f5-8f84-54753a41b6c4",
   "metadata": {},
   "outputs": [],
   "source": [
    "# Load the different datasets as one dataset when they have similar sampling frequency\n",
    "era5_hourly_tp = xr.open_mfdataset('/Users/iriskeizer/Documents/ROMS/data/ERA5/raw/1950_2022/hourly/tp*.nc')\n",
    "era5_hourly_ssr = xr.open_mfdataset('/Users/iriskeizer/Documents/ROMS/data/ERA5/raw/1950_2022/hourly/ssr*.nc')\n",
    "\n",
    "\n",
    "era5_6hourly = xr.open_mfdataset('/Users/iriskeizer/Documents/ROMS/data/ERA5/raw/1950_2022/6hourly/*.nc')"
   ]
  },
  {
   "cell_type": "code",
   "execution_count": 13,
   "id": "dae4bd70-6526-4e0a-aceb-36b03abd1b60",
   "metadata": {
    "tags": []
   },
   "outputs": [],
   "source": [
    "# Delete 2022\n",
    "era5_hourly_tp = era5_hourly.where(era5_hourly_tp.time.dt.year < 2022, drop = True)\n",
    "era5_hourly_ssr = era5_hourly.where(era5_hourly_ssr.time.dt.year < 2022, drop = True)\n",
    "era5_6hourly = era5_6hourly.where(era5_6hourly.time.dt.year < 2022, drop = True)"
   ]
  },
  {
   "cell_type": "code",
   "execution_count": 14,
   "id": "eadfe711-fbc3-4899-aa56-735c9c68a921",
   "metadata": {},
   "outputs": [],
   "source": [
    "# Delete attributes as they aren't valid anymore\n",
    "\n",
    "del era5_hourly_tp.attrs['Conventions']\n",
    "del era5_hourly_tp.attrs['history']\n",
    "del era5_hourly_ssr.attrs['Conventions']\n",
    "del era5_hourly_ssr.attrs['history']\n",
    "del era5_6hourly.attrs['Conventions']\n",
    "del era5_6hourly.attrs['history']"
   ]
  },
  {
   "cell_type": "code",
   "execution_count": 8,
   "id": "e9a6f3f9-5c33-4b58-8221-2b75589442dd",
   "metadata": {},
   "outputs": [],
   "source": [
    "# Delete expver = 5\n",
    "\n",
    "era5_6hourly = era5_6hourly.sel(expver = 1).drop('expver')"
   ]
  },
  {
   "cell_type": "code",
   "execution_count": null,
   "id": "c2f40007-01a7-4de0-9a1d-2354bc5484ec",
   "metadata": {},
   "outputs": [],
   "source": [
    "# Save data\n",
    "\n",
    "\n",
    "era5_hourly_tp.tp.to_netcdf('/Users/iriskeizer/Documents/ROMS/data/ERA5/preprocessed/hourly/era5_hourly_tp.nc')\n",
    "era5_hourly_ssr.ssr.to_netcdf('/Users/iriskeizer/Documents/ROMS/data/ERA5/preprocessed/hourly/era5_hourly_ssr.nc')\n",
    "\n",
    "era5_6hourly.d2m.to_netcdf('/Users/iriskeizer/Documents/ROMS/data/ERA5/preprocessed/6hourly/era5_6hourly_d2m.nc')\n",
    "era5_6hourly.msl.to_netcdf('/Users/iriskeizer/Documents/ROMS/data/ERA5/preprocessed/6hourly/era5_6hourly_msl.nc')\n",
    "era5_6hourly.t2m.to_netcdf('/Users/iriskeizer/Documents/ROMS/data/ERA5/preprocessed/6hourly/era5_6hourly_t2m.nc')\n",
    "era5_6hourly.tcc.to_netcdf('/Users/iriskeizer/Documents/ROMS/data/ERA5/preprocessed/6hourly/era5_6hourly_tcc.nc')\n",
    "era5_6hourly.v10.to_netcdf('/Users/iriskeizer/Documents/ROMS/data/ERA5/preprocessed/6hourly/era5_6hourly_v10.nc')\n",
    "era5_6hourly.u10.to_netcdf('/Users/iriskeizer/Documents/ROMS/data/ERA5/preprocessed/6hourly/era5_6hourly_u10.nc')\n",
    "\n"
   ]
  },
  {
   "cell_type": "code",
   "execution_count": 15,
   "id": "1819e84d-885a-402c-a07d-9bfe3ef09f3a",
   "metadata": {},
   "outputs": [],
   "source": [
    "era5_hourly = xr.merge([era5_hourly_tp, era5_hourly_ssr])\n",
    "\n",
    "del era5_hourly.attrs['Conventions']\n",
    "del era5_hourly.attrs['history']\n",
    "\n",
    "era5_hourly.tp.to_netcdf('/Users/iriskeizer/Documents/ROMS/data/ERA5/preprocessed/hourly/era5_hourly_tp.nc')\n",
    "era5_hourly.ssr.to_netcdf('/Users/iriskeizer/Documents/ROMS/data/ERA5/preprocessed/hourly/era5_hourly_ssr.nc')"
   ]
  },
  {
   "cell_type": "code",
   "execution_count": null,
   "id": "4aa7cfd7-d896-46d3-ba89-6880c9f0dbc6",
   "metadata": {},
   "outputs": [],
   "source": []
  }
 ],
 "metadata": {
  "kernelspec": {
   "display_name": "Python 3 (ipykernel)",
   "language": "python",
   "name": "python3"
  },
  "language_info": {
   "codemirror_mode": {
    "name": "ipython",
    "version": 3
   },
   "file_extension": ".py",
   "mimetype": "text/x-python",
   "name": "python",
   "nbconvert_exporter": "python",
   "pygments_lexer": "ipython3",
   "version": "3.9.7"
  }
 },
 "nbformat": 4,
 "nbformat_minor": 5
}
