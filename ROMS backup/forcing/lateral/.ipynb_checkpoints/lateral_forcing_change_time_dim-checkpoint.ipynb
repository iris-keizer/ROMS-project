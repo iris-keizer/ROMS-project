{
 "cells": [
  {
   "cell_type": "markdown",
   "id": "de35aa94-76e8-4565-9a4f-9f6113dc842f",
   "metadata": {},
   "source": [
    "## Notebook to make changes to the time dimension of the lateral forcing files"
   ]
  },
  {
   "cell_type": "code",
   "execution_count": 2,
   "id": "495cc04c-a6e5-438c-adca-ee2508975629",
   "metadata": {},
   "outputs": [],
   "source": [
    "import xarray as xr\n",
    "import numpy as np"
   ]
  },
  {
   "cell_type": "code",
   "execution_count": 4,
   "id": "b9a45fdb-a060-4dc6-821e-45f3aefdf7a2",
   "metadata": {},
   "outputs": [],
   "source": [
    "bry = xr.open_dataset('/Users/iriskeizer/Documents/ROMS/data/lateral forcing/NorthSea4 ORA20C/NorthSea4_bry_ORA20C_19500116_to_20091216.nc')\n",
    "cli = xr.open_dataset('/Users/iriskeizer/Documents/ROMS/data/lateral forcing/NorthSea4 ORA20C/NorthSea4_clim_ORA20C_19500116_to_20091216.nc')\n",
    "ini = xr.open_dataset('/Users/iriskeizer/Documents/ROMS/data/lateral forcing/NorthSea4 ORA20C/NorthSea4_init_ORA20C_19500116_to_20091216.nc')"
   ]
  },
  {
   "cell_type": "code",
   "execution_count": 5,
   "id": "d6aa015d-2978-4702-aa06-b65369c28015",
   "metadata": {},
   "outputs": [],
   "source": [
    "# Obtain seconds between '1948-01-01T00:00:00' and '1970-01-01T00:00:00'\n",
    "sec_shift = np.datetime64('1948-01-01T00:00:00').astype(int)*-1 # Unit: seconds\n",
    "\n",
    "time_1970 = bry.ocean_time.values.astype(int)/10**9     # Create a time array of seconds since 01-01-1970\n",
    "time_1948 = time_1970 + sec_shift                       # Create a time array of seconds since 01-01-1948\n",
    "\n",
    "bry['ocean_time'] = time_1948"
   ]
  },
  {
   "cell_type": "code",
   "execution_count": 6,
   "id": "264da817-32c7-436a-8ddc-1f93a61625e5",
   "metadata": {},
   "outputs": [],
   "source": [
    "# Obtain seconds between '1948-01-01T00:00:00' and '1970-01-01T00:00:00'\n",
    "sec_shift = np.datetime64('1948-01-01T00:00:00').astype(int)*-1 # Unit: seconds\n",
    "\n",
    "time_1970 = cli.ocean_time.values.astype(int)/10**9     # Create a time array of seconds since 01-01-1970\n",
    "time_1948 = time_1970 + sec_shift                       # Create a time array of seconds since 01-01-1948\n",
    "\n",
    "cli['ocean_time'] = time_1948"
   ]
  },
  {
   "cell_type": "code",
   "execution_count": 7,
   "id": "2f124d34-ffa0-4a91-93ce-dd4bd8a904c4",
   "metadata": {},
   "outputs": [],
   "source": [
    "# Obtain seconds between '1948-01-01T00:00:00' and '1970-01-01T00:00:00'\n",
    "sec_shift = np.datetime64('1948-01-01T00:00:00').astype(int)*-1 # Unit: seconds\n",
    "\n",
    "time_1970 = ini.ocean_time.values.astype(int)/10**9     # Create a time array of seconds since 01-01-1970\n",
    "time_1948 = time_1970 + sec_shift                       # Create a time array of seconds since 01-01-1948\n",
    "\n",
    "ini['ocean_time'] = time_1948"
   ]
  },
  {
   "cell_type": "code",
   "execution_count": 8,
   "id": "cfd6d8a4-7e2c-43de-a558-0ce975a2aaa7",
   "metadata": {},
   "outputs": [],
   "source": [
    "bry.to_netcdf('/Users/iriskeizer/Documents/ROMS/data/lateral forcing/NorthSea4 ORA20C/processed/NorthSea4_bry_ORA20C_19500116_to_20091216.nc')\n",
    "cli.to_netcdf('/Users/iriskeizer/Documents/ROMS/data/lateral forcing/NorthSea4 ORA20C/processed/NorthSea4_clim_ORA20C_19500116_to_20091216.nc')\n",
    "ini.to_netcdf('/Users/iriskeizer/Documents/ROMS/data/lateral forcing/NorthSea4 ORA20C/processed/NorthSea4_init_ORA20C_19500116_to_20091216.nc')"
   ]
  },
  {
   "cell_type": "code",
   "execution_count": null,
   "id": "b688293f-9f5c-4453-9f49-512b197a8df2",
   "metadata": {},
   "outputs": [],
   "source": []
  }
 ],
 "metadata": {
  "kernelspec": {
   "display_name": "Python 3 (ipykernel)",
   "language": "python",
   "name": "python3"
  },
  "language_info": {
   "codemirror_mode": {
    "name": "ipython",
    "version": 3
   },
   "file_extension": ".py",
   "mimetype": "text/x-python",
   "name": "python",
   "nbconvert_exporter": "python",
   "pygments_lexer": "ipython3",
   "version": "3.9.7"
  }
 },
 "nbformat": 4,
 "nbformat_minor": 5
}
