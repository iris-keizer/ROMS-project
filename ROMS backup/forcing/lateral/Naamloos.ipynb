{
 "cells": [
  {
   "cell_type": "code",
   "execution_count": 1,
   "id": "693f30ff-edf8-4327-b35e-569d4573e922",
   "metadata": {},
   "outputs": [],
   "source": [
    "import xarray as xr"
   ]
  },
  {
   "cell_type": "code",
   "execution_count": 2,
   "id": "d4e6b00e-0feb-4a4f-9e40-396b38440a13",
   "metadata": {},
   "outputs": [],
   "source": [
    "clim_ora = xr.open_dataset('/Users/iriskeizer/Documents/ROMS/data/lateral forcing/NorthSea4 ORA20C/NorthSea4_clim_ORA20C_1950116_to_20091216.nc')"
   ]
  },
  {
   "cell_type": "code",
   "execution_count": 6,
   "id": "a3788c70-1710-467b-8be7-fbd7846ff965",
   "metadata": {},
   "outputs": [
    {
     "data": {
      "text/plain": [
       "{'zlib': False,\n",
       " 'szip': False,\n",
       " 'zstd': False,\n",
       " 'bzip2': False,\n",
       " 'blosc': False,\n",
       " 'shuffle': False,\n",
       " 'complevel': 0,\n",
       " 'fletcher32': False,\n",
       " 'contiguous': True,\n",
       " 'chunksizes': None,\n",
       " 'source': '/Users/iriskeizer/Documents/ROMS/data/lateral forcing/NorthSea4 ORA20C/NorthSea4_clim_ORA20C_1950116_to_20091216.nc',\n",
       " 'original_shape': (720, 110, 122),\n",
       " 'dtype': dtype('float32'),\n",
       " '_FillValue': -9.99e+33}"
      ]
     },
     "execution_count": 6,
     "metadata": {},
     "output_type": "execute_result"
    }
   ],
   "source": [
    "clim_ora.zeta.encoding"
   ]
  },
  {
   "cell_type": "code",
   "execution_count": null,
   "id": "808b96f1-07d9-4e7c-a6aa-65d25006082b",
   "metadata": {},
   "outputs": [],
   "source": []
  }
 ],
 "metadata": {
  "kernelspec": {
   "display_name": "py310",
   "language": "python",
   "name": "py310"
  },
  "language_info": {
   "codemirror_mode": {
    "name": "ipython",
    "version": 3
   },
   "file_extension": ".py",
   "mimetype": "text/x-python",
   "name": "python",
   "nbconvert_exporter": "python",
   "pygments_lexer": "ipython3",
   "version": "3.10.6"
  }
 },
 "nbformat": 4,
 "nbformat_minor": 5
}
