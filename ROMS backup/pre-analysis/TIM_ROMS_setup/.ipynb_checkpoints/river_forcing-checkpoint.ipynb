{
 "cells": [
  {
   "cell_type": "markdown",
   "id": "a069bbb1-a273-4a83-ae74-0a9bfe01a3b7",
   "metadata": {},
   "source": [
    "## Notebook the river forcing file \n",
    "\n",
    "Due to an update to ROMS https://www.myroms.org/projects/src/ticket/905 \n",
    "\n",
    "the river_direction variable should be changed to 2 instead of 0 for all rivers since we use the option LwSrc == T"
   ]
  },
  {
   "cell_type": "code",
   "execution_count": 1,
   "id": "35694fe5-e971-4ea3-88e2-7b0ea8940345",
   "metadata": {},
   "outputs": [],
   "source": [
    "import xarray as xr\n",
    "import numpy as np"
   ]
  },
  {
   "cell_type": "code",
   "execution_count": null,
   "id": "db6f6231-5725-4a8f-ab7e-b8c9f0811a92",
   "metadata": {},
   "outputs": [],
   "source": [
    "rivers = rivers = xr.open_dataset('/Users/iriskeizer/Documents/ROMS/timnorthsea8/forcing/old/Rivers_NorthSea8_smooth013_Dai2014_AnnualCycle_1993-2019.nc')\n",
    "rivers"
   ]
  },
  {
   "cell_type": "code",
   "execution_count": null,
   "id": "1e42744e-2e55-45e3-a982-41521641d49e",
   "metadata": {},
   "outputs": [],
   "source": [
    "new = rivers.river_direction.where('river_direction' == 1, 2)"
   ]
  },
  {
   "cell_type": "code",
   "execution_count": null,
   "id": "e30a5a2d-48f8-4fea-bb5c-2cf15ad5845e",
   "metadata": {},
   "outputs": [],
   "source": [
    "rivers.assign({'river_direction' : new})"
   ]
  },
  {
   "cell_type": "code",
   "execution_count": null,
   "id": "9d4d77fc-1de3-4d53-96c9-95f263697727",
   "metadata": {},
   "outputs": [],
   "source": [
    "rivers.to_netcdf('/Users/iriskeizer/Documents/ROMS/timnorthsea8/forcing/Rivers_NorthSea8_smooth013_Dai2014_AnnualCycle_1993-2019.nc')"
   ]
  }
 ],
 "metadata": {
  "kernelspec": {
   "display_name": "Python 3 (ipykernel)",
   "language": "python",
   "name": "python3"
  },
  "language_info": {
   "codemirror_mode": {
    "name": "ipython",
    "version": 3
   },
   "file_extension": ".py",
   "mimetype": "text/x-python",
   "name": "python",
   "nbconvert_exporter": "python",
   "pygments_lexer": "ipython3",
   "version": "3.9.7"
  }
 },
 "nbformat": 4,
 "nbformat_minor": 5
}
