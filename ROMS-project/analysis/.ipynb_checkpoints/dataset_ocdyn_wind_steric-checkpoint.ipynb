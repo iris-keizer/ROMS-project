{
 "cells": [
  {
   "cell_type": "markdown",
   "id": "6e3e950c-e274-409b-a9c9-943eaa7fa992",
   "metadata": {},
   "source": [
    "### Combine the ocean dynamic, wind effect and regional steric sea level from many outputs\n",
    "\n",
    "Reanalysis data: GLORYS, SODA, ORA\n",
    "ROMS output from these reanalysis datasets\n",
    "Dewi's budget\n",
    "\n",
    "For a polygon area based on altimetry data (absolute sea level) and near the six tide gauges (relative sea level)"
   ]
  },
  {
   "cell_type": "code",
   "execution_count": 1,
   "id": "617d740b-f6d1-4836-91f7-e5cd436b09fb",
   "metadata": {},
   "outputs": [],
   "source": [
    "import xarray as xr\n",
    "import pandas as pd"
   ]
  },
  {
   "cell_type": "markdown",
   "id": "980bcf52-56b3-408f-a7de-b8a13276c6ff",
   "metadata": {},
   "source": [
    "# Sea level near tide gauges"
   ]
  },
  {
   "cell_type": "code",
   "execution_count": 24,
   "id": "524c9cdc-af2a-46da-9c72-8a22c90334b3",
   "metadata": {},
   "outputs": [],
   "source": [
    "glorys_tg_ocdyn = pd.read_csv('/Users/iriskeizer/Documents/ROMS/data/GLORYS12V1/processed/glorys_tg_ocdyn.csv', index_col = 'time')['Average'].values\n",
    "glorys_tg_wind = xr.open_dataset('/Users/iriskeizer/Documents/ROMS/data/wind effect/timeseries_glorys.nc').sel(station = 'Average').wind_total.values\n",
    "glorys_tg_steric = glorys_tg_ocdyn - glorys_tg_wind\n",
    "\n"
   ]
  },
  {
   "cell_type": "code",
   "execution_count": null,
   "id": "89f874cb-ef86-45e4-bf29-2e9408583d33",
   "metadata": {},
   "outputs": [],
   "source": [
    "roms"
   ]
  },
  {
   "cell_type": "code",
   "execution_count": 13,
   "id": "22933566-a4c3-40c3-a698-9da889386122",
   "metadata": {},
   "outputs": [],
   "source": [
    "soda_tg_ocdyn = pd.read_csv('/Users/iriskeizer/Documents/Zeespiegelscenarios/data/soda/regression input/sealevel_soda.csv', index_col = 'time')['Average'].values\n",
    "soda_tg_wind = xr.open_dataset('/Users/iriskeizer/Documents/Zeespiegelscenarios/data/soda/regression output/timeseries_soda.nc').sel(station = 'Average').wind_total.values\n",
    "soda_tg_steric = soda_tg_ocdyn - soda_tg_wind\n",
    "\n"
   ]
  },
  {
   "cell_type": "code",
   "execution_count": 26,
   "id": "0e2b372b-3d95-4006-a685-c05f8dbabb99",
   "metadata": {},
   "outputs": [],
   "source": [
    "budget_tg = pd.read_csv('/Users/iriskeizer/Documents/ROMS/data/budget/slbudget_2022_11_23_All_NL_tide_gauge_1993_2021_ERA5_StericEN4_22_[500, 4000]m.csv', index_col = 'time')"
   ]
  },
  {
   "cell_type": "code",
   "execution_count": 28,
   "id": "c44ed2cb-8e6d-4db0-bab6-b2129fa08771",
   "metadata": {},
   "outputs": [],
   "source": [
    "budget_tg_wind = budget_tg['Wind'].values\n",
    "budget_tg_steric = budget_tg['LocSteric'].values\n",
    "budget_tg_ocdyn = budget_tg_wind + budget_tg_steric"
   ]
  },
  {
   "cell_type": "markdown",
   "id": "f1cd5426-dcee-411e-a328-d59e58a286db",
   "metadata": {},
   "source": [
    "# Sea level for polygon"
   ]
  },
  {
   "cell_type": "code",
   "execution_count": 25,
   "id": "670ce96a-2b6f-4086-bcf4-2fe0c1c84775",
   "metadata": {},
   "outputs": [],
   "source": [
    "budget_poly = pd.read_csv('/Users/iriskeizer/Documents/ROMS/data/budget/slbudget_2022_12_01_NL_region_altimetry_1993_2021_ERA5_StericEN4_22_[500, 4000]m.csv', index_col = 'time')"
   ]
  },
  {
   "cell_type": "code",
   "execution_count": null,
   "id": "1ad9664b-77c0-4d5d-8a69-7d11705d1dbc",
   "metadata": {},
   "outputs": [],
   "source": []
  }
 ],
 "metadata": {
  "kernelspec": {
   "display_name": "py310",
   "language": "python",
   "name": "py310"
  },
  "language_info": {
   "codemirror_mode": {
    "name": "ipython",
    "version": 3
   },
   "file_extension": ".py",
   "mimetype": "text/x-python",
   "name": "python",
   "nbconvert_exporter": "python",
   "pygments_lexer": "ipython3",
   "version": "3.10.6"
  }
 },
 "nbformat": 4,
 "nbformat_minor": 5
}
