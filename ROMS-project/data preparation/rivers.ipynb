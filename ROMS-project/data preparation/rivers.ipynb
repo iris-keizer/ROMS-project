{
 "cells": [
  {
   "cell_type": "code",
   "execution_count": 94,
   "id": "81691997-ff9f-4500-963c-b4fa7f7f342c",
   "metadata": {},
   "outputs": [],
   "source": [
    "import xarray as xr\n",
    "import pandas as pd\n",
    "import numpy as np\n",
    "from pandas.tseries.offsets import DateOffset"
   ]
  },
  {
   "cell_type": "code",
   "execution_count": 95,
   "id": "389af7bd-10bc-449b-b206-976118889c5a",
   "metadata": {},
   "outputs": [],
   "source": [
    "river = xr.open_dataset('/Users/iriskeizer/Documents/ROMS/data/River run-off/Rivers_NorthSea4_smooth013_Dai2014_AnnualCycle_1948-2019.nc')\n"
   ]
  },
  {
   "cell_type": "code",
   "execution_count": 96,
   "id": "a7a0f50d-027f-4346-b6cc-ee6b4c9ffd6d",
   "metadata": {},
   "outputs": [],
   "source": [
    "# Create new dataset\n",
    "\n",
    "# New time data\n",
    "river_time = pd.date_range(start='1948/01/15', end='2021/01/15', freq=DateOffset(months=1))\n",
    "\n",
    "\n",
    "# New transport data\n",
    "new_list = [river.river_transport.values[0], river.river_transport.values[1], river.river_transport.values[2],\n",
    "           river.river_transport.values[3], river.river_transport.values[4], river.river_transport.values[5],\n",
    "           river.river_transport.values[6], river.river_transport.values[7], river.river_transport.values[8],\n",
    "           river.river_transport.values[9], river.river_transport.values[10], river.river_transport.values[11], river.river_transport.values[12]]\n",
    "new_arr = np.asarray(new_list)\n",
    "river_transport = np.concatenate((river.river_transport.values, new_arr)) \n",
    "\n",
    "\n",
    "\n",
    "# New transport data\n",
    "new_list = [river.river_temp.values[0], river.river_temp.values[1], river.river_temp.values[2],\n",
    "           river.river_temp.values[3], river.river_temp.values[4], river.river_temp.values[5],\n",
    "           river.river_temp.values[6], river.river_temp.values[7], river.river_temp.values[8],\n",
    "           river.river_temp.values[9], river.river_temp.values[10], river.river_temp.values[11], river.river_temp.values[12]]\n",
    "new_arr = np.asarray(new_list)\n",
    "river_temp = np.concatenate((river.river_temp.values, new_arr)) \n",
    "\n",
    "\n",
    "# New salt data\n",
    "new_list = [river.river_salt.values[0], river.river_salt.values[1], river.river_salt.values[2],\n",
    "           river.river_salt.values[3], river.river_salt.values[4], river.river_salt.values[5],\n",
    "           river.river_salt.values[6], river.river_salt.values[7], river.river_salt.values[8],\n",
    "           river.river_salt.values[9], river.river_salt.values[10], river.river_salt.values[11], river.river_salt.values[12]]\n",
    "new_arr = np.asarray(new_list)\n",
    "river_salt = np.concatenate((river.river_salt.values, new_arr)) \n",
    "\n",
    "\n",
    "\n",
    "\n",
    "data_vars = dict(river_direction=(['river'], river.river_direction.values, river.river_direction.attrs),\n",
    "                river_Xposition=(['river'], river.river_Xposition.values, river.river_Xposition.attrs),\n",
    "                river_Eposition=(['river'], river.river_Eposition.values, river.river_Eposition.attrs),\n",
    "                river_temp=(['river_time', 's_rho', 'river'], river_temp, river.river_temp.attrs),\n",
    "                river_salt=(['river_time', 's_rho', 'river'], river_salt, river.river_salt.attrs),\n",
    "                river_Vshape=(['s_rho', 'river'], river.river_Vshape.values, river.river_Vshape.attrs),\n",
    "                river_transport=(['river_time', 'river'], river_transport, river.river_transport.attrs),)\n",
    "\n",
    "\n",
    "\n",
    "coords = dict(river=(['river'], river.river.values, river.river.attrs),\n",
    "             river_time=(['river_time'], river_time, river.river_time.attrs),\n",
    "             s_rho=(['s_rho'], river.s_rho.values, river.s_rho.attrs),)\n",
    "\n",
    "\n",
    "\n",
    "\n",
    "\n",
    "river_out = xr.Dataset(data_vars=data_vars,\n",
    "                      coords=coords,\n",
    "                     attrs=river.attrs)\n",
    "\n",
    "\n",
    "\n"
   ]
  },
  {
   "cell_type": "code",
   "execution_count": 97,
   "id": "c5943131-0e17-4204-9021-eadbeba05ece",
   "metadata": {},
   "outputs": [],
   "source": [
    "fill_value = np.asarray(-9.99e33)"
   ]
  },
  {
   "cell_type": "code",
   "execution_count": 98,
   "id": "e4edecd9-61e1-4f63-949a-9a96fe7308f4",
   "metadata": {},
   "outputs": [],
   "source": [
    "# Make sure there are no nan values\n",
    "river_out['river'] = river_out.river.where(river_out.river.notnull(), fill_value)\n",
    "river_out['s_rho'] = river_out.s_rho.where(river_out.s_rho.notnull(), fill_value)\n",
    "\n",
    "river_out['river_direction'] = river_out.river_direction.where(river_out.river_direction.notnull(), fill_value)\n",
    "river_out['river_Xposition'] = river_out.river_Xposition.where(river_out.river_Xposition.notnull(), fill_value)\n",
    "river_out['river_Eposition'] = river_out.river_Eposition.where(river_out.river_Eposition.notnull(), fill_value)\n",
    "river_out['river_temp'] = river_out.river_temp.where(river_out.river_temp.notnull(), fill_value)\n",
    "river_out['river_salt'] = river_out.river_salt.where(river_out.river_salt.notnull(), fill_value)\n",
    "river_out['river_Vshape'] = river_out.river_Vshape.where(river_out.river_Vshape.notnull(), fill_value)\n",
    "river_out['river_transport'] = river_out.river_transport.where(river_out.river_transport.notnull(), fill_value)\n",
    "\n",
    "\n",
    "# Add attrs\n",
    "river_out.river.attrs['_FillValue'] = fill_value\n",
    "river_out.river_time.attrs['_FillValue'] = fill_value\n",
    "river_out.s_rho.attrs['_FillValue'] = fill_value\n",
    "\n",
    "river_out.river_direction.attrs['_FillValue'] = fill_value\n",
    "river_out.river_Xposition.attrs['_FillValue'] = fill_value\n",
    "river_out.river_Eposition.attrs['_FillValue'] = fill_value\n",
    "river_out.river_temp.attrs['_FillValue'] = fill_value\n",
    "river_out.river_salt.attrs['_FillValue'] = fill_value\n",
    "river_out.river_Vshape.attrs['_FillValue'] = fill_value\n",
    "river_out.river_transport.attrs['_FillValue'] = fill_value"
   ]
  },
  {
   "cell_type": "code",
   "execution_count": null,
   "id": "0cec0883-28fd-4ad6-b579-ecd4cf7f584f",
   "metadata": {},
   "outputs": [],
   "source": []
  },
  {
   "cell_type": "code",
   "execution_count": 99,
   "id": "f30aa0a2-b4f2-457d-a9b5-12784d662b88",
   "metadata": {},
   "outputs": [],
   "source": [
    "river_out.to_netcdf('/Users/iriskeizer/Documents/ROMS/data/River run-off/Rivers_NorthSea4_smooth013_Dai2014_AnnualCycle_1948-2020.nc')"
   ]
  },
  {
   "cell_type": "code",
   "execution_count": null,
   "id": "4d4a9781-1815-4c56-bef5-fc68a39eaf1d",
   "metadata": {},
   "outputs": [],
   "source": []
  },
  {
   "cell_type": "code",
   "execution_count": null,
   "id": "1646cbc3-4c07-4cf4-b1ec-c8efc88c1cc3",
   "metadata": {},
   "outputs": [],
   "source": []
  },
  {
   "cell_type": "code",
   "execution_count": null,
   "id": "baa13adc-1dad-4f20-b559-07d15494d6b1",
   "metadata": {},
   "outputs": [],
   "source": []
  },
  {
   "cell_type": "code",
   "execution_count": null,
   "id": "c4422b78-697d-4e17-91b8-b4bceee7b8ee",
   "metadata": {},
   "outputs": [],
   "source": []
  }
 ],
 "metadata": {
  "kernelspec": {
   "display_name": "py310",
   "language": "python",
   "name": "py310"
  },
  "language_info": {
   "codemirror_mode": {
    "name": "ipython",
    "version": 3
   },
   "file_extension": ".py",
   "mimetype": "text/x-python",
   "name": "python",
   "nbconvert_exporter": "python",
   "pygments_lexer": "ipython3",
   "version": "3.10.6"
  }
 },
 "nbformat": 4,
 "nbformat_minor": 5
}
