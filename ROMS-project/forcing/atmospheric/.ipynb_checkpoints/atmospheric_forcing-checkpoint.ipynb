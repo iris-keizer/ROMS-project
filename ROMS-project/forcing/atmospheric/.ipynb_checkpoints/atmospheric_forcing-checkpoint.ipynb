{
 "cells": [
  {
   "cell_type": "markdown",
   "id": "e26d7a69-12c5-496f-9cd5-5b3e7bad9b44",
   "metadata": {},
   "source": [
    "## Notebook to create the atmospheric forcing files for ROMS input using Tim's set-up\n",
    "\n",
    "\n",
    "In this notebook:\n",
    "- The preprocessed ERA5 data from 1950 to 2020 is imported\n",
    "- For the variables zonal and meridional wind at 10m, temperature and dewpoint temperature at 2m, total cloud cover and mean sea level pressure the data consists of 6hourly values (00:00, 06:00, 12:00, 18:00).\n",
    "- For the variable total precipitation the data consists of hourly values whereof 12hourly fluxes are obtained for 6:00 and 18:00\n",
    "- For the variable solar radiation the data also consists of hourly values whereof daily fluxes are obtained for 12:00\n",
    " \n",
    "- For all variables the time dimension is changed to seconds since '1948-01-01T00:00:00'\n",
    "- Using d2m and t2m the relative humidity (Qair) is obtained. \n",
    "\n",
    "- For "
   ]
  },
  {
   "cell_type": "code",
   "execution_count": 1,
   "id": "5617131c-7130-47dd-b0bf-04e2fa2366f5",
   "metadata": {},
   "outputs": [
    {
     "data": {
      "text/plain": [
       "<dask.config.set at 0x7ff098392f10>"
      ]
     },
     "execution_count": 1,
     "metadata": {},
     "output_type": "execute_result"
    }
   ],
   "source": [
    "# Import necessary packages\n",
    "\n",
    "import dask\n",
    "import numpy as np\n",
    "import xarray as xr\n",
    "\n",
    "from tqdm import tqdm\n",
    "from xsimlab.monitoring import ProgressBar\n",
    "\n",
    "dask.config.set({\"array.slicing.split_large_chunks\": False})"
   ]
  },
  {
   "cell_type": "code",
   "execution_count": 2,
   "id": "dbefe993-19e2-48c7-9be1-59075aa4db56",
   "metadata": {},
   "outputs": [],
   "source": [
    "# Import data\n",
    "\n",
    "era5_6hourly = xr.open_mfdataset('/Users/iriskeizer/Documents/ROMS/data/ERA5/preprocessed/6hourly/*.nc')"
   ]
  },
  {
   "cell_type": "markdown",
   "id": "5ad58e7e-260f-45e0-9fd6-3d5c0e02821d",
   "metadata": {},
   "source": [
    "### Create atmospheric forcing for 6hourly data\n",
    "\n",
    "\n",
    "The reference datum for ERA5 data is 01-01-1970 whereas roms uses 01-01-1948 as a reference"
   ]
  },
  {
   "cell_type": "code",
   "execution_count": 3,
   "id": "51d3e663-886d-4f8d-8d1c-5ad1004d4dfb",
   "metadata": {},
   "outputs": [],
   "source": [
    "era5_6hourly = era5_6hourly.sortby('latitude') # Make sure the latitude values are ascending for both the dimension and all variables"
   ]
  },
  {
   "cell_type": "code",
   "execution_count": 4,
   "id": "0fc6ea75-8f3d-40d3-b62c-5607ee945a39",
   "metadata": {},
   "outputs": [
    {
     "data": {
      "text/plain": [
       "numpy.datetime64('1970-01-01')"
      ]
     },
     "execution_count": 4,
     "metadata": {},
     "output_type": "execute_result"
    }
   ],
   "source": [
    "# Figure out the reference time for datetime timesteps\n",
    "np.datetime64(0, 'D')"
   ]
  },
  {
   "cell_type": "code",
   "execution_count": 5,
   "id": "205d9c76-2a94-4917-92b3-ec66d8017479",
   "metadata": {},
   "outputs": [],
   "source": [
    "# Obtain seconds between '1948-01-01T00:00:00' and '1970-01-01T00:00:00'\n",
    "sec_shift = np.datetime64('1948-01-01T00:00:00').astype(int)*-1 # Unit: seconds"
   ]
  },
  {
   "cell_type": "code",
   "execution_count": 6,
   "id": "a81371c3-3339-4465-9c1d-5e2265b9f014",
   "metadata": {},
   "outputs": [],
   "source": [
    "# Create dimensions\n",
    "lons = era5_6hourly.longitude.values\n",
    "lats = era5_6hourly.latitude.values\n",
    "time_1970 = era5_6hourly.time.values.astype(int)/10**9     # Create a time array of seconds since 01-01-1970\n",
    "time_1948 = time_1970 + sec_shift                          # Create a time array of seconds since 01-01-1948"
   ]
  },
  {
   "cell_type": "code",
   "execution_count": 7,
   "id": "f0271147-0a7d-4098-a4f9-936996b5288e",
   "metadata": {},
   "outputs": [],
   "source": [
    "# Create variables\n",
    "msl = era5_6hourly.msl.values * 0.01   # Convert from Pa to mbar\n",
    "t2m = era5_6hourly.t2m.values - 273.15 # Convert from Kelvin to Celsius\n",
    "tcc = era5_6hourly.tcc.values\n",
    "u10 = era5_6hourly.u10.values\n",
    "v10 = era5_6hourly.v10.values"
   ]
  },
  {
   "cell_type": "code",
   "execution_count": 8,
   "id": "c757535b-f59c-4a7c-b2ba-3f35f93077d3",
   "metadata": {},
   "outputs": [],
   "source": [
    "# Compute Relative Humidity Qair from t2m and d2m using eq. 12 of DOI:10.1175/BAMS-86-2-225\n",
    "L = 2.5*10**6.    # Enthalpy of vaporization at 273.15K (J/kg)\n",
    "Rw = 461.5        # Gaz constant for water vapor (J/K/kg)\n",
    "t2m_K = era5_6hourly.t2m.values\n",
    "d2m_K = era5_6hourly.d2m.values\n",
    "Qair = 100*np.exp(-L*(t2m_K - d2m_K)/(Rw*t2m_K*d2m_K))"
   ]
  },
  {
   "cell_type": "code",
   "execution_count": 9,
   "id": "2710919a-7b62-4030-877c-44a822a8d4fc",
   "metadata": {},
   "outputs": [],
   "source": [
    "# Create DataSet\n",
    "\n",
    "# Define variables\n",
    "data_vars = {'Uwind':(['time', 'lat', 'lon'], u10, \n",
    "                      {'units': 'meter second-1', 'long_name': 'surface u-wind component', 'standard_name' : 'surface_eastward_wind', 'time' : 'time', 'coordinat' : 'lon lat'}),\n",
    "             'Vwind':(['time', 'lat', 'lon'], v10, \n",
    "                      {'units': 'meter second-1', 'long_name': 'surface v-wind component', 'standard_name' : 'surface_northward_wind', 'time' : 'time', 'coordinat' : 'lon lat'}),\n",
    "             'cloud':(['time', 'lat', 'lon'], tcc, \n",
    "                      {'units': 'nondimensional', 'long_name': 'cloud fraction', 'standard_name' : 'cloud_area_fraction', 'time' : 'time', 'coordinat' : 'lon lat'}),\n",
    "             'Pair':(['time', 'lat', 'lon'], msl, \n",
    "                     {'units': 'millibar ', 'long_name': 'surface air pressure', 'standard_name' : 'surface_air_pressure', 'time' : 'time', 'coordinat' : 'lon lat'}),\n",
    "             'Tair':(['time', 'lat', 'lon'], t2m, \n",
    "                     {'units': 'Celsius', 'long_name': 'surface air temperature', 'standard_name' : 'surface_air_temperature', 'time' : 'time', 'coordinat' : 'lon lat'}),\n",
    "             'Qair':(['time', 'lat', 'lon'], Qair, \n",
    "                     {'units': 'percentage', 'long_name': 'surface air relative humidity', 'standard_name' : 'surface_relative_humidity', 'time' : 'time', 'coordinat' : 'lon lat'}),\n",
    "            }\n",
    "\n",
    "# Define coordinates\n",
    "coords = {'time':(['time'], time_1948, {'units': 'seconds since 1948-01-01 00:00:0.0', 'long_name': 'time', 'standard_name': 'time', 'calendar': 'gregorian', }),\n",
    "         'lon':(['lon'], lons, {'units': '°E', 'long_name': 'Longitude', 'standard_name': 'Longitude'}),\n",
    "         'lat':(['lat'], lats, {'units': '°N', 'long_name': 'Latitude', 'standard_name': 'Latitude'})}\n",
    "\n",
    "\n",
    "\n",
    "# Create Dataset\n",
    "ERA5_an = xr.Dataset(data_vars = data_vars,\n",
    "                    coords = coords,\n",
    "                    )\n",
    "\n"
   ]
  },
  {
   "cell_type": "code",
   "execution_count": 10,
   "id": "56b2099d-fc83-47d2-a8a2-4ed8b186bd05",
   "metadata": {},
   "outputs": [],
   "source": [
    "# Save Dataset\n",
    "ERA5_an.to_netcdf('/Users/iriskeizer/Documents/ROMS/data/surface forcing/ERA5_NorthAtlantic_an_ForROMS.nc')"
   ]
  },
  {
   "cell_type": "markdown",
   "id": "d1ad0cf3-37de-441c-a380-b6e26d65a2f3",
   "metadata": {},
   "source": [
    "### Create atmospheric forcing for 12hourly and daily data"
   ]
  },
  {
   "cell_type": "code",
   "execution_count": 2,
   "id": "ca807562-8bea-40a6-bf89-899901a9389c",
   "metadata": {},
   "outputs": [],
   "source": [
    "# Import data\n",
    "\n",
    "era5_hourly = xr.open_mfdataset('/Users/iriskeizer/Documents/ROMS/data/ERA5/preprocessed/hourly/*.nc')"
   ]
  },
  {
   "cell_type": "code",
   "execution_count": 3,
   "id": "74a88566-c653-4f0c-a572-91efb6962f10",
   "metadata": {},
   "outputs": [],
   "source": [
    "# Shift every hour forward (such that the data is given at each hour as the sum over the next hour)\n",
    "era5_hourly_shft = era5_hourly.shift(time = -1)\n",
    "\n",
    "\n",
    "# Sort latitudes ascending\n",
    "era5_hourly_shft = era5_hourly_shft.sortby('latitude')\n",
    "\n",
    "# Group by 12h or by day and obtain sum\n",
    "era5_12hourly = era5_hourly_shft.resample(time = '12H').sum('time')\n",
    "era5_daily = era5_hourly_shft.resample(time='1D').sum('time')\n",
    "\n"
   ]
  },
  {
   "cell_type": "code",
   "execution_count": 4,
   "id": "0d4a2a9c-fc4f-47e2-b340-9cb6168f8586",
   "metadata": {},
   "outputs": [
    {
     "data": {
      "text/plain": [
       "numpy.datetime64('1970-01-01')"
      ]
     },
     "execution_count": 4,
     "metadata": {},
     "output_type": "execute_result"
    }
   ],
   "source": [
    "# Figure out the reference time for datetime timesteps\n",
    "np.datetime64(0, 'D')"
   ]
  },
  {
   "cell_type": "code",
   "execution_count": 5,
   "id": "ae7f2c1d-a40e-403f-836f-1f8614e75d32",
   "metadata": {},
   "outputs": [],
   "source": [
    "# Obtain seconds between '1948-01-01T00:00:00' and '1970-01-01T00:00:00'\n",
    "sec_shift = np.datetime64('1948-01-01T00:00:00').astype(int)*-1"
   ]
  },
  {
   "cell_type": "code",
   "execution_count": 6,
   "id": "bad6c3d9-6efb-48a7-a126-52b2bf57e512",
   "metadata": {},
   "outputs": [],
   "source": [
    "# Create dimensions\n",
    "lons = era5_12hourly.longitude.values\n",
    "lats = era5_12hourly.latitude.values\n",
    "time_12h_1970 = era5_12hourly.time.values.astype(int)/10**9                                               # Create a time array of seconds since 01-01-1970 (ns->s)\n",
    "time_d_1970 = era5_daily.time.values.astype(int)/10**9                                                    # Create a time array of seconds since 01-01-1970 (ns->s)\n",
    "\n",
    "time_12h_1948 = time_12h_1970 + sec_shift                       # Create a time array of seconds since 01-01-1948\n",
    "time_d_1948 = time_d_1970 + sec_shift\n",
    "\n",
    "#time_12h_1948 = time_12h_1948 - 6*60*60 # Remove 6 hours to center the flux to the middle of the forcasting time (12h) instead of the beginning\n",
    "#time_d_1948 = time_d_1948               # Add 12 hours to have midday values"
   ]
  },
  {
   "cell_type": "code",
   "execution_count": 7,
   "id": "51846a2e-aec6-47a4-8ed2-83f53348cfc3",
   "metadata": {},
   "outputs": [],
   "source": [
    "# Obtain fluxes\n",
    "\n",
    "with ProgressBar():\n",
    "    tp = era5_12hourly.tp.values * 1000/(12*60*60) # From m to kg/m**2/s\n",
    "    ssr = era5_daily.ssr.values /(24*60*60)"
   ]
  },
  {
   "cell_type": "code",
   "execution_count": 8,
   "id": "9b964992-cf28-4365-9932-22a63fca7362",
   "metadata": {},
   "outputs": [],
   "source": [
    "# Create DataSet\n",
    "\n",
    "# Define variables\n",
    "data_vars = {'rain':(['time_rain', 'lat', 'lon'], tp, \n",
    "                     {'units': 'kilogram meter-2 second-1', 'long_name': 'rain fall rate', 'standard_name' : 'precipitation_flux', 'time' : 'time_rain', 'coordinates' : 'lon lat'}),\n",
    "            'swrad':(['time_swrad', 'lat', 'lon'], ssr, \n",
    "                    {'units': 'watt meter-2', 'long_name': 'solar shortwave radiation flux', 'standard_name' : 'net_downward_shortwave_flux_at_sea_water_surface', 'time' : 'time_swrad', 'coordinates' : 'lon lat'})}\n",
    "\n",
    "# Define coordinates\n",
    "coords = {'time_rain':(['time_rain'], time_12h_1948, {'units': 'seconds since 1948-01-01 00:00:0.0', 'long_name': 'time', 'standard_name': 'time', 'calendar': 'gregorian', }),\n",
    "          'time_swrad':(['time_swrad'], time_d_1948, {'units': 'seconds since 1948-01-01 00:00:0.0', 'long_name': 'time', 'standard_name': 'time', 'calendar': 'gregorian', }),\n",
    "         'lon':(['lon'], lons, {'units': '°E', 'long_name': 'Longitude', 'standard_name': 'Longitude'}),\n",
    "         'lat':(['lat'], lats, {'units': '°N', 'long_name': 'Latitude', 'standard_name': 'Latitude'})}\n",
    "\n",
    "# Create Dataset\n",
    "ERA5_fc = xr.Dataset(data_vars = data_vars,\n",
    "                    coords = coords,\n",
    "                    )\n",
    "\n",
    "\n"
   ]
  },
  {
   "cell_type": "code",
   "execution_count": 10,
   "id": "cda6d871-e72e-4922-87d0-3af5c2c7f37b",
   "metadata": {},
   "outputs": [],
   "source": [
    "# Save Dataset\n",
    "ERA5_fc.to_netcdf('/Users/iriskeizer/Documents/ROMS/data/surface forcing/ERA5_NorthAtlantic_fc_ForROMS.nc', engine = 'netcdf4')"
   ]
  },
  {
   "cell_type": "code",
   "execution_count": null,
   "id": "29505b68-ad4a-454a-9baf-4eccfd055ee3",
   "metadata": {},
   "outputs": [],
   "source": []
  }
 ],
 "metadata": {
  "kernelspec": {
   "display_name": "Python 3 (ipykernel)",
   "language": "python",
   "name": "python3"
  },
  "language_info": {
   "codemirror_mode": {
    "name": "ipython",
    "version": 3
   },
   "file_extension": ".py",
   "mimetype": "text/x-python",
   "name": "python",
   "nbconvert_exporter": "python",
   "pygments_lexer": "ipython3",
   "version": "3.9.7"
  }
 },
 "nbformat": 4,
 "nbformat_minor": 5
}
