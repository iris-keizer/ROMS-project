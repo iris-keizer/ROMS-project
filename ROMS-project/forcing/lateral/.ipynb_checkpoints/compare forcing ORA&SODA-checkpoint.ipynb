{
 "cells": [
  {
   "cell_type": "markdown",
   "id": "4098cf37-f59e-440e-8d05-bbbeeaba0af9",
   "metadata": {},
   "source": [
    "## Compare forcing files of ORA and SODA\n",
    "\n",
    "The ROMS model blows up for SODA data so I should figure out what is causing this problem.\n",
    "\n"
   ]
  },
  {
   "cell_type": "code",
   "execution_count": 1,
   "id": "6e3b8f51-7240-41d1-9a4f-20f5b2f075c7",
   "metadata": {},
   "outputs": [],
   "source": [
    "import xarray as xr"
   ]
  },
  {
   "cell_type": "code",
   "execution_count": 4,
   "id": "3140f16f-77a1-41e2-abb1-0879203d4a7f",
   "metadata": {},
   "outputs": [],
   "source": [
    "path = '/Users/iriskeizer/Documents/ROMS/data/lateral forcing/'\n",
    "\n",
    "clim_ora = xr.open_dataset(f'{path}NorthSea4 ORA20C/NorthSea4_clim_ORA20C_1950116_to_20091216.nc')\n",
    "bry_ora = xr.open_dataset(f'{path}NorthSea4 ORA20C/NorthSea4_bry_ORA20C_1950116_to_20091216.nc')\n",
    "\n",
    "clim_soda = xr.open_dataset(f'{path}NorthSea4 SODA/NorthSea4_clim_SODA_1980116_to_20201216.nc')\n",
    "bry_soda = xr.open_dataset(f'{path}NorthSea4 SODA/NorthSea4_bry_SODA_1980116_to_20201216.nc')\n",
    "\n",
    "\n",
    "# Import Tim lateral forcing files\n",
    "clim_tim = xr.open_dataset('/Users/iriskeizer/Documents/ROMS/timnorthsea8/NS8_ForcingSmooth01/NS8_clim_GLORYS_19930115_to_20021231.nc')\n",
    "bry_tim = xr.open_dataset('/Users/iriskeizer/Documents/ROMS/timnorthsea8/NS8_ForcingSmooth01/NS8_bry_GLORYS_19930115_to_20021231.nc')"
   ]
  },
  {
   "cell_type": "code",
   "execution_count": null,
   "id": "12f96d04-dcde-4cb9-9ade-034ea6380d87",
   "metadata": {},
   "outputs": [],
   "source": []
  }
 ],
 "metadata": {
  "kernelspec": {
   "display_name": "py310",
   "language": "python",
   "name": "py310"
  },
  "language_info": {
   "codemirror_mode": {
    "name": "ipython",
    "version": 3
   },
   "file_extension": ".py",
   "mimetype": "text/x-python",
   "name": "python",
   "nbconvert_exporter": "python",
   "pygments_lexer": "ipython3",
   "version": "3.10.6"
  }
 },
 "nbformat": 4,
 "nbformat_minor": 5
}
