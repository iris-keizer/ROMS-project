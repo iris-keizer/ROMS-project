{
 "cells": [
  {
   "cell_type": "markdown",
   "id": "4da79faf-1fe3-47c3-9744-e20221616b12",
   "metadata": {},
   "source": [
    "# Notebook to prepare the CHOR data \n",
    "\n",
    "The data is saved at '/Users/iriskeizer/Documents/ROMS/data/lateral forcing/CHOR/'\n",
    "\n",
    "The data consists of 4 ensemble members:\n",
    "CHOR_AS, CHOR_RL, CHORE_AS, CHORE_RL\n",
    "\n",
    "The data consists of files with the extension '.nc.gz' for each ensemble member for each year.\n",
    "\n",
    "We want to extract the variables Temperature, Salinity, SSH, zonal currents and meridional currents\n",
    "We want to select the region from 33°N to 66°N and 12°E to 23°W\n",
    "\n",
    "The new data should be saved in the folder '/Users/iriskeizer/Documents/ROMS/data/lateral forcing/CHOR_prep/'"
   ]
  },
  {
   "cell_type": "code",
   "execution_count": null,
   "id": "6f1bb4b4-f3ae-47a8-aacf-467fc54b1b36",
   "metadata": {},
   "outputs": [],
   "source": []
  }
 ],
 "metadata": {
  "kernelspec": {
   "display_name": "Python 3 (ipykernel)",
   "language": "python",
   "name": "python3"
  },
  "language_info": {
   "codemirror_mode": {
    "name": "ipython",
    "version": 3
   },
   "file_extension": ".py",
   "mimetype": "text/x-python",
   "name": "python",
   "nbconvert_exporter": "python",
   "pygments_lexer": "ipython3",
   "version": "3.9.7"
  }
 },
 "nbformat": 4,
 "nbformat_minor": 5
}
