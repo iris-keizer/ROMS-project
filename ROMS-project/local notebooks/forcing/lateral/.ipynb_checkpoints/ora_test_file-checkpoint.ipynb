{
 "cells": [
  {
   "cell_type": "markdown",
   "id": "3cc7d1e8-ae82-40df-8354-b009c5d34423",
   "metadata": {},
   "source": [
    "## Create a glorys test file of data"
   ]
  },
  {
   "cell_type": "code",
   "execution_count": 1,
   "id": "1f982ee4-9162-47be-a740-db2835b61777",
   "metadata": {},
   "outputs": [],
   "source": [
    "import xarray as xr"
   ]
  },
  {
   "cell_type": "code",
   "execution_count": 2,
   "id": "12f6f206-4ffb-400a-ae96-a6235ebdc301",
   "metadata": {},
   "outputs": [],
   "source": [
    "ora = xr.open_dataset('/Users/iriskeizer/Documents/ROMS/data/ORA20C/forcing input/ora20c.nc').load()"
   ]
  },
  {
   "cell_type": "code",
   "execution_count": 8,
   "id": "ff558196-311b-429f-8310-80c5812974d3",
   "metadata": {},
   "outputs": [],
   "source": [
    "ora_test = ora.where((ora.time.dt.year > 1949) & (ora.time.dt.year < 1955), drop = True)"
   ]
  },
  {
   "cell_type": "code",
   "execution_count": 9,
   "id": "2f331db5-063f-4ab1-bb71-f950d89bf044",
   "metadata": {},
   "outputs": [],
   "source": [
    "ora_test.to_netcdf('/Users/iriskeizer/Documents/ROMS/data/ORA20C/forcing input/ora20_test.nc')"
   ]
  },
  {
   "cell_type": "code",
   "execution_count": null,
   "id": "593b879e-3072-4c44-9735-1ccbef3a9168",
   "metadata": {},
   "outputs": [],
   "source": []
  }
 ],
 "metadata": {
  "kernelspec": {
   "display_name": "py310",
   "language": "python",
   "name": "py310"
  },
  "language_info": {
   "codemirror_mode": {
    "name": "ipython",
    "version": 3
   },
   "file_extension": ".py",
   "mimetype": "text/x-python",
   "name": "python",
   "nbconvert_exporter": "python",
   "pygments_lexer": "ipython3",
   "version": "3.10.6"
  }
 },
 "nbformat": 4,
 "nbformat_minor": 5
}
