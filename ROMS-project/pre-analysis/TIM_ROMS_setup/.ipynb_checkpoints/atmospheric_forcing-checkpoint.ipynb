{
 "cells": [
  {
   "cell_type": "markdown",
   "id": "e26d7a69-12c5-496f-9cd5-5b3e7bad9b44",
   "metadata": {},
   "source": [
    "## Notebook to create the atmospheric forcing files for ROMS input using Tim's set-up\n",
    "\n",
    "\n",
    "In this notebook:\n",
    "- The period from 1993 to 2018 is selected\n",
    "\n",
    "\n",
    "\n",
    "From Tim's matlab files:\n",
    "Prepare the ERA5 analysis data to be used in ROMS\n",
    "- Change units\n",
    "- Compute relative humidity from temperature and dewpoint temperature\n",
    "- Multiply by scale factor and add offset (it seems that when importing variables from a dataset the offset and scale factor are automatically applied)\n",
    "- Loop on years\n",
    "\n",
    "\n",
    "Written in Tim's paper:\n",
    "The atmospheric boundary conditions were derived from ERA5 (Copernicus Climate Change Service\n",
    "(C3S), 2017). ERA5 is based on the IFS41r2 Earth system model and is available for 1979 to a few months\n",
    "before present. The atmospheric forcing was applied using bulk formulae based on (Fairall et al., 1996).\n",
    "We prescribed solar radiation daily using an idealized diurnal cycle and precipitation 12‐hourly. Winds at\n",
    "10 m above sea level, atmospheric pressure, cloud coverage, air temperature, and relative air humidity at\n",
    "2 m above sea level were prescribed on a 6‐hourly basis.\n",
    "\n",
    "\n",
    "\n",
    "\n",
    "\n",
    "\n",
    "Dewi said the netcdf files contain seconds"
   ]
  },
  {
   "cell_type": "code",
   "execution_count": 18,
   "id": "5617131c-7130-47dd-b0bf-04e2fa2366f5",
   "metadata": {},
   "outputs": [
    {
     "data": {
      "text/plain": [
       "<dask.config.set at 0x7fe8932d2340>"
      ]
     },
     "execution_count": 18,
     "metadata": {},
     "output_type": "execute_result"
    }
   ],
   "source": [
    "# Import necessary packages\n",
    "\n",
    "import dask\n",
    "import numpy as np\n",
    "import xarray as xr\n",
    "\n",
    "from tqdm import tqdm\n",
    "\n",
    "dask.config.set({\"array.slicing.split_large_chunks\": False})"
   ]
  },
  {
   "cell_type": "code",
   "execution_count": 2,
   "id": "dbefe993-19e2-48c7-9be1-59075aa4db56",
   "metadata": {},
   "outputs": [],
   "source": [
    "# Import data\n",
    "era5_6hourly = xr.open_mfdataset('/Users/iriskeizer/Documents/ROMS/data/ERA5/preprocessed/6hourly/*.nc')\n",
    "era5_12hourly = xr.open_dataset('/Users/iriskeizer/Documents/ROMS/data/ERA5/preprocessed/12hourly/era5_12hourly_tp.nc')\n",
    "era5_daily = xr.open_dataset('/Users/iriskeizer/Documents/ROMS/data/ERA5/preprocessed/daily/era5_daily_ssr.nc')"
   ]
  },
  {
   "cell_type": "code",
   "execution_count": 3,
   "id": "43dec43f-7d31-47c0-9b3c-bb81c52035d0",
   "metadata": {},
   "outputs": [],
   "source": [
    "# Select period 1993 - 2018\n",
    "era5_6hourly = era5_6hourly.where((era5_6hourly.time.dt.year > 1992) & (era5_6hourly.time.dt.year < 2019), drop = True)\n",
    "era5_12hourly = era5_12hourly.where((era5_12hourly.time.dt.year > 1992) & (era5_12hourly.time.dt.year < 2019), drop = True)\n",
    "era5_daily = era5_daily.where((era5_daily.time.dt.year > 1992) & (era5_daily.time.dt.year < 2019), drop = True)"
   ]
  },
  {
   "cell_type": "markdown",
   "id": "5ad58e7e-260f-45e0-9fd6-3d5c0e02821d",
   "metadata": {},
   "source": [
    "### Create atmospheric forcing for 6hourly data\n",
    "\n",
    "\n",
    "The reference datum for ERA5 data is 01-01-1970 whereas roms uses 01-01-1948 as a reference"
   ]
  },
  {
   "cell_type": "code",
   "execution_count": 4,
   "id": "51d3e663-886d-4f8d-8d1c-5ad1004d4dfb",
   "metadata": {},
   "outputs": [],
   "source": [
    "era5_6hourly = era5_6hourly.sortby('latitude') # Make sure the latitude values are ascending for both the dimension and all variables"
   ]
  },
  {
   "cell_type": "code",
   "execution_count": 5,
   "id": "0fc6ea75-8f3d-40d3-b62c-5607ee945a39",
   "metadata": {},
   "outputs": [
    {
     "data": {
      "text/plain": [
       "numpy.datetime64('1970-01-01')"
      ]
     },
     "execution_count": 5,
     "metadata": {},
     "output_type": "execute_result"
    }
   ],
   "source": [
    "# Figure out the reference time for datetime timesteps\n",
    "np.datetime64(0, 'D')"
   ]
  },
  {
   "cell_type": "code",
   "execution_count": 6,
   "id": "205d9c76-2a94-4917-92b3-ec66d8017479",
   "metadata": {},
   "outputs": [],
   "source": [
    "# Obtain seconds between '1948-01-01T00:00:00' and '1970-01-01T00:00:00'\n",
    "sec_shift = np.datetime64('1948-01-01T00:00:00').astype(int)*-1"
   ]
  },
  {
   "cell_type": "code",
   "execution_count": 8,
   "id": "a81371c3-3339-4465-9c1d-5e2265b9f014",
   "metadata": {},
   "outputs": [],
   "source": [
    "# Create dimensions\n",
    "lons = era5_6hourly.longitude.values\n",
    "lats = era5_6hourly.latitude.values\n",
    "time_1970 = era5_6hourly.time.values.astype(int)/10**9     # Create a time array of seconds since 01-01-1970\n",
    "time_1948 = time_1970 + sec_shift                          # Create a time array of seconds since 01-01-1948"
   ]
  },
  {
   "cell_type": "code",
   "execution_count": 9,
   "id": "f0271147-0a7d-4098-a4f9-936996b5288e",
   "metadata": {},
   "outputs": [],
   "source": [
    "# Create variables\n",
    "msl = era5_6hourly.msl.values * 0.01   # Convert from Pa to mbar\n",
    "t2m = era5_6hourly.t2m.values - 273.15 # Convert from Kelvin to Celsius\n",
    "tcc = era5_6hourly.tcc.values\n",
    "u10 = era5_6hourly.u10.values\n",
    "v10 = era5_6hourly.v10.values"
   ]
  },
  {
   "cell_type": "code",
   "execution_count": 10,
   "id": "c757535b-f59c-4a7c-b2ba-3f35f93077d3",
   "metadata": {},
   "outputs": [],
   "source": [
    "# Compute Relative Humidity Qair from t2m and d2m using eq. 12 of DOI:10.1175/BAMS-86-2-225\n",
    "L = 2.5*10**6.    # Enthalpy of vaporization at 273.15K (J/kg)\n",
    "Rw = 461.5        # Gaz constant for water vapor (J/K/kg)\n",
    "t2m_K = era5_6hourly.t2m.values\n",
    "d2m_K = era5_6hourly.d2m.values\n",
    "Qair = 100*np.exp(-L*(t2m_K - d2m_K)/(Rw*t2m_K*d2m_K))"
   ]
  },
  {
   "cell_type": "code",
   "execution_count": 11,
   "id": "2710919a-7b62-4030-877c-44a822a8d4fc",
   "metadata": {},
   "outputs": [],
   "source": [
    "# Create DataSet\n",
    "\n",
    "# Define variables\n",
    "data_vars = {'Uwind':(['time', 'lat', 'lon'], u10, {'units': era5_6hourly.u10.attrs['units'], 'long_name':era5_6hourly.u10.attrs['long_name']}),\n",
    "             'Vwind':(['time', 'lat', 'lon'], v10, {'units': era5_6hourly.v10.attrs['units'], 'long_name':era5_6hourly.v10.attrs['long_name']}),\n",
    "             'cloud':(['time', 'lat', 'lon'], tcc, {'units': era5_6hourly.tcc.attrs['units'], 'long_name':era5_6hourly.tcc.attrs['long_name'], 'standard_name':era5_6hourly.tcc.attrs['standard_name']}),\n",
    "             'Pair':(['time', 'lat', 'lon'], msl, {'units': 'mbar', 'long_name':era5_6hourly.msl.attrs['long_name'], 'standard_name':era5_6hourly.msl.attrs['standard_name']}),\n",
    "             'Tair':(['time', 'lat', 'lon'], t2m, {'units': '°C', 'long_name':era5_6hourly.t2m.attrs['long_name']}),\n",
    "             'Qair':(['time', 'lat', 'lon'], Qair, {'units': '%', 'long_name': '2 metre relative humidity'}),\n",
    "            }\n",
    "\n",
    "# Define coordinates\n",
    "coords = {'time':(['time'], time_1948, {'units': 'seconds since 1948-01-01 00:00:0.0', 'long_name': 'time', 'standard_name': 'time', 'calendar': 'gregorian', }),\n",
    "         'lon':(['lon'], lons, {'units': '°E', 'long_name': 'Longitude', 'standard_name': 'Longitude'}),\n",
    "         'lat':(['lat'], lats, {'units': '°N', 'long_name': 'Latitude', 'standard_name': 'Latitude'})}\n",
    "\n",
    "# Create Dataset\n",
    "ERA5_an = xr.Dataset(data_vars = data_vars,\n",
    "                    coords = coords,\n",
    "                    )\n",
    "\n"
   ]
  },
  {
   "cell_type": "code",
   "execution_count": 12,
   "id": "56b2099d-fc83-47d2-a8a2-4ed8b186bd05",
   "metadata": {},
   "outputs": [],
   "source": [
    "# Save Dataset\n",
    "ERA5_an.to_netcdf('/Users/iriskeizer/Documents/ROMS/timnorthsea8/forcing/ERA5_6h_NorthAtlantic_an_ForROMS_test.nc')"
   ]
  },
  {
   "cell_type": "code",
   "execution_count": 19,
   "id": "cb0bc769-9c7d-48e0-a631-bc25c002f45f",
   "metadata": {},
   "outputs": [
    {
     "name": "stderr",
     "output_type": "stream",
     "text": [
      "100%|████████████████████████████████████████| 26/26 [2:10:53<00:00, 302.05s/it]\n"
     ]
    }
   ],
   "source": [
    "# Save Dataset for each year\n",
    "for year in tqdm(range(1993, 2019)):\n",
    "    \n",
    "    era5_6hourly_one_year = era5_6hourly.sel(time = era5_6hourly.time.dt.year.isin([year]))\n",
    "    \n",
    "    # Create dimensions\n",
    "    lons = era5_6hourly_one_year.longitude.values\n",
    "    lats = era5_6hourly_one_year.latitude.values\n",
    "    time_1970 = era5_6hourly_one_year.time.values.astype(int)/10**9     # Create a time array of seconds since 01-01-1970\n",
    "    time_1948 = time_1970 + sec_shift                                   # Create a time array of seconds since 01-01-1948\n",
    "    \n",
    "    # Create variables\n",
    "    msl = era5_6hourly_one_year.msl.values * 0.01   # Convert from Pa to mbar\n",
    "    t2m = era5_6hourly_one_year.t2m.values - 273.15 # Convert from Kelvin to Celsius\n",
    "    tcc = era5_6hourly_one_year.tcc.values\n",
    "    u10 = era5_6hourly_one_year.u10.values\n",
    "    v10 = era5_6hourly_one_year.v10.values\n",
    "    \n",
    "    # Compute Relative Humidity Qair from t2m and d2m using eq. 12 of DOI:10.1175/BAMS-86-2-225\n",
    "    L = 2.5*10**6.    # Enthalpy of vaporization at 273.15K (J/kg)\n",
    "    Rw = 461.5        # Gaz constant for water vapor (J/K/kg)\n",
    "    t2m_K = era5_6hourly_one_year.t2m.values\n",
    "    d2m_K = era5_6hourly_one_year.d2m.values\n",
    "    Qair = 100*np.exp(-L*(t2m_K - d2m_K)/(Rw*t2m_K*d2m_K))\n",
    "    \n",
    "    # Create DataSet\n",
    "\n",
    "    # Define variables\n",
    "    data_vars = {'Uwind':(['time', 'lat', 'lon'], u10, {'units': era5_6hourly_one_year.u10.attrs['units'], 'long_name':era5_6hourly_one_year.u10.attrs['long_name']}),\n",
    "                 'Vwind':(['time', 'lat', 'lon'], v10, {'units': era5_6hourly_one_year.v10.attrs['units'], 'long_name':era5_6hourly_one_year.v10.attrs['long_name']}),\n",
    "                 'cloud':(['time', 'lat', 'lon'], tcc, {'units': era5_6hourly_one_year.tcc.attrs['units'], 'long_name':era5_6hourly_one_year.tcc.attrs['long_name'], 'standard_name':era5_6hourly_one_year.tcc.attrs['standard_name']}),\n",
    "                 'Pair':(['time', 'lat', 'lon'], msl, {'units': 'mbar', 'long_name':era5_6hourly_one_year.msl.attrs['long_name'], 'standard_name':era5_6hourly_one_year.msl.attrs['standard_name']}),\n",
    "                 'Tair':(['time', 'lat', 'lon'], t2m, {'units': '°C', 'long_name':era5_6hourly_one_year.t2m.attrs['long_name']}),\n",
    "                 'Qair':(['time', 'lat', 'lon'], Qair, {'units': '%', 'long_name': '2 metre relative humidity'}),\n",
    "                }\n",
    "\n",
    "    # Define coordinates\n",
    "    coords = {'time':(['time'], time_1948, {'units': 'seconds since 1948-01-01 00:00:0.0', 'long_name': 'time', 'standard_name': 'time', 'calendar': 'gregorian', }),\n",
    "             'lon':(['lon'], lons, {'units': '°E', 'long_name': 'Longitude', 'standard_name': 'Longitude'}),\n",
    "             'lat':(['lat'], lats, {'units': '°N', 'long_name': 'Latitude', 'standard_name': 'Latitude'})}\n",
    "\n",
    "    # Create Dataset\n",
    "    ERA5_an_year = xr.Dataset(data_vars = data_vars,\n",
    "                              coords = coords,\n",
    "                             )\n",
    "\n",
    "    # Save Dataset\n",
    "    ERA5_an_year.to_netcdf('/Users/iriskeizer/Documents/ROMS/timnorthsea8/forcing/ERA5_6h_NorthAtlantic_an_' + str(year) + '_ForROMS_test.nc')\n"
   ]
  },
  {
   "cell_type": "markdown",
   "id": "d1ad0cf3-37de-441c-a380-b6e26d65a2f3",
   "metadata": {},
   "source": [
    "### Create atmospheric forcing for 12hourly and daily data"
   ]
  },
  {
   "cell_type": "code",
   "execution_count": 20,
   "id": "6a9627f2-9ec5-4614-bc53-80205d917735",
   "metadata": {},
   "outputs": [],
   "source": [
    "era5_12hourly = era5_12hourly.sortby('latitude') # Make sure the latitude values are ascending for both the dimension and all variables\n",
    "era5_daily = era5_daily.sortby('latitude')"
   ]
  },
  {
   "cell_type": "code",
   "execution_count": 21,
   "id": "bad6c3d9-6efb-48a7-a126-52b2bf57e512",
   "metadata": {},
   "outputs": [],
   "source": [
    "# Create dimensions\n",
    "\n",
    "time_12h_1970 = era5_12hourly.time.values.astype(int)/10**9                                               # Create a time array of seconds since 01-01-1970 (ns->s)\n",
    "time_d_1970 = era5_daily.where(era5_daily.time.dt.hour == 12, drop = True).time.values.astype(int)/10**9  # Select midday values\n",
    "\n",
    "time_12h_1948 = time_12h_1970 + sec_shift                       # Create a time array of seconds since 01-01-1948\n",
    "time_d_1948 = time_d_1970 + sec_shift\n",
    "\n",
    "time_12h_1948 = time_12h_1948 - 6*60*60 # Remove 6 hours to center the flux to the middle of the forcasting time (12h) instead of the beginning\n",
    "time_d_1948 = time_d_1948               # Add 12 hours to have midday values"
   ]
  },
  {
   "cell_type": "code",
   "execution_count": 22,
   "id": "51846a2e-aec6-47a4-8ed2-83f53348cfc3",
   "metadata": {},
   "outputs": [],
   "source": [
    "# Create variables\n",
    "\n",
    "tp = era5_12hourly.tp.values * 1000/(12*60*60) # From m to kg/m**2/s\n",
    "ssr = era5_daily.resample(time='1D').mean().ssr.values"
   ]
  },
  {
   "cell_type": "code",
   "execution_count": 24,
   "id": "9b964992-cf28-4365-9932-22a63fca7362",
   "metadata": {},
   "outputs": [],
   "source": [
    "# Create DataSet\n",
    "\n",
    "# Define variables\n",
    "data_vars = {'rain':(['time_rain', 'lat', 'lon'], tp, {'units': 'kg/m**2/s', 'long_name': 'Rain fall rate'}),\n",
    "            'swrad':(['time_swrad', 'lat', 'lon'], ssr, {'units': 'W/m**2', 'long_name': 'Surface solar radiation', \n",
    "                                                         'standard_name': 'swrad'})}\n",
    "\n",
    "# Define coordinates\n",
    "coords = {'time_rain':(['time_rain'], time_12h_1948, {'units': 'seconds since 1948-01-01 00:00:0.0', 'long_name': 'time', 'standard_name': 'time', 'calendar': 'gregorian', }),\n",
    "          'time_swrad':(['time_swrad'], time_d_1948, {'units': 'seconds since 1948-01-01 00:00:0.0', 'long_name': 'time', 'standard_name': 'time', 'calendar': 'gregorian', }),\n",
    "         'lon':(['lon'], lons, {'units': '°E', 'long_name': 'Longitude', 'standard_name': 'Longitude'}),\n",
    "         'lat':(['lat'], lats, {'units': '°N', 'long_name': 'Latitude', 'standard_name': 'Latitude'})}\n",
    "\n",
    "# Create Dataset\n",
    "ERA5_fc = xr.Dataset(data_vars = data_vars,\n",
    "                    coords = coords,\n",
    "                    )\n",
    "\n",
    "\n"
   ]
  },
  {
   "cell_type": "code",
   "execution_count": 27,
   "id": "cda6d871-e72e-4922-87d0-3af5c2c7f37b",
   "metadata": {},
   "outputs": [],
   "source": [
    "# Save Dataset\n",
    "ERA5_fc.to_netcdf('/Users/iriskeizer/Documents/ROMS/timnorthsea8/forcing/ERA5_NorthAtlantic_fc_ForROMS_test.nc')"
   ]
  },
  {
   "cell_type": "code",
   "execution_count": 31,
   "id": "fc642d06-b1ba-46c8-bb81-ddcc157910fa",
   "metadata": {},
   "outputs": [
    {
     "name": "stderr",
     "output_type": "stream",
     "text": [
      "100%|███████████████████████████████████████████| 26/26 [00:12<00:00,  2.09it/s]\n"
     ]
    }
   ],
   "source": [
    "# Save Dataset for each year\n",
    "for year in tqdm(range(1993, 2019)):\n",
    "    \n",
    "    era5_12hourly_one_year = era5_12hourly.sel(time = era5_12hourly.time.dt.year.isin([year]))\n",
    "    era5_daily_one_year = era5_daily.sel(time = era5_daily.time.dt.year.isin([year]))\n",
    "    \n",
    "    \n",
    "    # Create dimensions\n",
    "    time_12h_1970 = era5_12hourly_one_year.time.values.astype(int)/10**9                                                        # Create a time array of seconds since 01-01-1970 (ns->s)\n",
    "    time_d_1970 = era5_daily_one_year.where(era5_daily_one_year.time.dt.hour == 12, drop = True).time.values.astype(int)/10**9  # Select midday values\n",
    "\n",
    "    time_12h_1948 = time_12h_1970 + sec_shift                       # Create a time array of seconds since 01-01-1948\n",
    "    time_d_1948 = time_d_1970 + sec_shift\n",
    "\n",
    "    time_12h_1948 = time_12h_1948 - 6*60*60 # Remove 6 hours to center the flux to the middle of the forcasting time (12h) instead of the beginning\n",
    "    time_d_1948 = time_d_1948               # Add 12 hours to have midday values\n",
    "    \n",
    "    \n",
    "    # Create variables\n",
    "    tp = era5_12hourly_one_year.tp.values * 1000/(12*60*60) # From m to kg/m**2/s\n",
    "    ssr = era5_daily_one_year.resample(time='1D').mean().ssr.values\n",
    "    \n",
    "    \n",
    "    # Create DataSet\n",
    "\n",
    "    # Define variables\n",
    "    data_vars = {'rain':(['time_rain', 'lat', 'lon'], tp, {'units': 'kg/m**2/s', 'long_name': 'Rain fall rate'}),\n",
    "                'swrad':(['time_swrad', 'lat', 'lon'], ssr, {'units': 'W/m**2', 'long_name': 'Surface solar radiation', \n",
    "                                                             'standard_name': 'swrad'})}\n",
    "\n",
    "    # Define coordinates\n",
    "    coords = {'time_rain':(['time_rain'], time_12h_1948, {'units': 'seconds since 1948-01-01 00:00:0.0', 'long_name': 'time', 'standard_name': 'time', 'calendar': 'gregorian', }),\n",
    "              'time_swrad':(['time_swrad'], time_d_1948, {'units': 'seconds since 1948-01-01 00:00:0.0', 'long_name': 'time', 'standard_name': 'time', 'calendar': 'gregorian', }),\n",
    "             'lon':(['lon'], lons, {'units': '°E', 'long_name': 'Longitude', 'standard_name': 'Longitude'}),\n",
    "             'lat':(['lat'], lats, {'units': '°N', 'long_name': 'Latitude', 'standard_name': 'Latitude'})}\n",
    "\n",
    "    # Create Dataset\n",
    "    ERA5_fc_year = xr.Dataset(data_vars = data_vars,\n",
    "                              coords = coords,\n",
    "                             )\n",
    "\n",
    "    # Save Dataset\n",
    "    ERA5_fc_year.to_netcdf('/Users/iriskeizer/Documents/ROMS/timnorthsea8/forcing/ERA5_NorthAtlantic_fc_' + str(year) + '_ForROMS_test.nc')\n",
    "\n"
   ]
  },
  {
   "cell_type": "code",
   "execution_count": null,
   "id": "542ea098-56a7-4649-8f4f-bfe00cbd8852",
   "metadata": {},
   "outputs": [],
   "source": []
  }
 ],
 "metadata": {
  "kernelspec": {
   "display_name": "Python 3 (ipykernel)",
   "language": "python",
   "name": "python3"
  },
  "language_info": {
   "codemirror_mode": {
    "name": "ipython",
    "version": 3
   },
   "file_extension": ".py",
   "mimetype": "text/x-python",
   "name": "python",
   "nbconvert_exporter": "python",
   "pygments_lexer": "ipython3",
   "version": "3.9.7"
  }
 },
 "nbformat": 4,
 "nbformat_minor": 5
}
