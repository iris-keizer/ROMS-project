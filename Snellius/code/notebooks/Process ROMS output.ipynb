{
 "cells": [
  {
   "cell_type": "code",
   "execution_count": 1,
   "id": "ca9b57f4",
   "metadata": {},
   "outputs": [],
   "source": [
    "import xarray as xr"
   ]
  },
  {
   "cell_type": "code",
   "execution_count": 2,
   "id": "a90b3c39",
   "metadata": {},
   "outputs": [],
   "source": [
    "import matplotlib.pyplot as plt"
   ]
  },
  {
   "cell_type": "code",
   "execution_count": 3,
   "id": "b1cff15a",
   "metadata": {},
   "outputs": [],
   "source": [
    "run3 = xr.open_dataset('/projects/0/einf2878/output/run3/NorthSea4_avg.nc').zeta\n",
    "run3_restart = xr.open_dataset('/projects/0/einf2878/output/run3/restart/NorthSea4_avg.nc').zeta"
   ]
  },
  {
   "cell_type": "code",
   "execution_count": 4,
   "id": "5c4fed5d",
   "metadata": {},
   "outputs": [],
   "source": [
    "run4 = xr.open_dataset('/projects/0/einf2878/output/run4/NorthSea4_avg.nc').zeta\n",
    "run4_restart = xr.open_dataset('/projects/0/einf2878/output/run4/restart/NorthSea4_avg.nc').zeta"
   ]
  },
  {
   "cell_type": "code",
   "execution_count": 11,
   "id": "9ffecbf5",
   "metadata": {},
   "outputs": [],
   "source": [
    "# Sort coordinates in increasing order\n",
    "run3 = run3.sortby(['ocean_time'])\n",
    "run3_restart = run3_restart.sortby(['ocean_time'])\n",
    "run4 = run4.sortby(['ocean_time'])\n",
    "run4_restart = run4_restart.sortby(['ocean_time'])"
   ]
  },
  {
   "cell_type": "code",
   "execution_count": 12,
   "id": "5d1e0656",
   "metadata": {},
   "outputs": [],
   "source": [
    "run3_complete = xr.concat([run3, run3_restart], dim = 'ocean_time')"
   ]
  },
  {
   "cell_type": "code",
   "execution_count": 13,
   "id": "798fef71",
   "metadata": {},
   "outputs": [],
   "source": [
    "run4_complete = xr.concat([run4, run4_restart], dim = 'ocean_time')"
   ]
  },
  {
   "cell_type": "code",
   "execution_count": 19,
   "id": "4ce33ecf",
   "metadata": {},
   "outputs": [
    {
     "data": {
      "text/plain": [
       "array(['1950-01-17T12:00:00.000000000', '1950-01-22T12:00:00.000000000',\n",
       "       '1950-01-27T12:00:00.000000000', '1950-02-01T12:00:00.000000000',\n",
       "       '1950-02-06T12:00:00.000000000', '1950-02-11T12:00:00.000000000',\n",
       "       '1950-02-16T12:00:00.000000000', '1950-02-21T12:00:00.000000000',\n",
       "       '1950-02-26T12:00:00.000000000', '1950-03-03T12:00:00.000000000',\n",
       "       '1950-03-08T12:00:00.000000000', '1950-03-13T12:00:00.000000000',\n",
       "       '1950-03-18T12:00:00.000000000', '1950-03-23T12:00:00.000000000',\n",
       "       '1950-03-28T12:00:00.000000000', '1950-04-02T12:00:00.000000000',\n",
       "       '1950-04-07T12:00:00.000000000', '1950-04-12T12:00:00.000000000',\n",
       "       '1950-04-17T12:00:00.000000000', '1950-04-22T12:00:00.000000000',\n",
       "       '1950-04-27T12:00:00.000000000', '1950-05-02T12:00:00.000000000',\n",
       "       '1950-05-07T12:00:00.000000000', '1950-05-12T12:00:00.000000000',\n",
       "       '1950-05-17T12:00:00.000000000', '1950-05-22T12:00:00.000000000',\n",
       "       '1950-05-27T12:00:00.000000000', '1950-06-01T12:00:00.000000000',\n",
       "       '1950-06-06T12:00:00.000000000', '1950-06-11T12:00:00.000000000',\n",
       "       '1950-06-16T12:00:00.000000000', '1950-06-21T12:00:00.000000000',\n",
       "       '1950-06-26T12:00:00.000000000', '1950-07-01T12:00:00.000000000',\n",
       "       '1950-07-06T12:00:00.000000000', '1950-07-11T12:00:00.000000000',\n",
       "       '1950-07-16T12:00:00.000000000', '1950-07-21T12:00:00.000000000',\n",
       "       '1950-07-26T12:00:00.000000000', '1950-07-31T12:00:00.000000000',\n",
       "       '1950-08-05T12:00:00.000000000', '1950-08-10T12:00:00.000000000',\n",
       "       '1950-08-15T12:00:00.000000000', '1950-08-20T12:00:00.000000000',\n",
       "       '1950-08-25T12:00:00.000000000', '1950-08-30T12:00:00.000000000',\n",
       "       '1950-09-04T12:00:00.000000000', '1950-09-09T12:00:00.000000000',\n",
       "       '1950-09-14T12:00:00.000000000', '1950-09-19T12:00:00.000000000'],\n",
       "      dtype='datetime64[ns]')"
      ]
     },
     "execution_count": 19,
     "metadata": {},
     "output_type": "execute_result"
    }
   ],
   "source": [
    "# Obtain yearly averages\n",
    "run3_complete = run2.resample(ocean_time='1Y').mean()\n",
    "\n"
   ]
  },
  {
   "cell_type": "code",
   "execution_count": null,
   "id": "049d4ce3",
   "metadata": {},
   "outputs": [],
   "source": []
  }
 ],
 "metadata": {
  "kernelspec": {
   "display_name": "py39",
   "language": "python",
   "name": "py39"
  },
  "language_info": {
   "codemirror_mode": {
    "name": "ipython",
    "version": 3
   },
   "file_extension": ".py",
   "mimetype": "text/x-python",
   "name": "python",
   "nbconvert_exporter": "python",
   "pygments_lexer": "ipython3",
   "version": "3.10.6"
  }
 },
 "nbformat": 4,
 "nbformat_minor": 5
}
